{
 "cells": [
  {
   "cell_type": "code",
   "execution_count": 1,
   "metadata": {},
   "outputs": [],
   "source": [
    "import glob\n",
    "import pandas as pd\n",
    "import numpy as np\n",
    "import string"
   ]
  },
  {
   "cell_type": "code",
   "execution_count": 2,
   "metadata": {},
   "outputs": [],
   "source": [
    "file = \"superfund_sites.csv\"\n",
    "read_file = pd.read_csv(file, encoding='latin1')\n",
    "sf_sites_df = pd.DataFrame(read_file)"
   ]
  },
  {
   "cell_type": "code",
   "execution_count": 3,
   "metadata": {},
   "outputs": [
    {
     "data": {
      "text/html": [
       "<div>\n",
       "<style scoped>\n",
       "    .dataframe tbody tr th:only-of-type {\n",
       "        vertical-align: middle;\n",
       "    }\n",
       "\n",
       "    .dataframe tbody tr th {\n",
       "        vertical-align: top;\n",
       "    }\n",
       "\n",
       "    .dataframe thead th {\n",
       "        text-align: right;\n",
       "    }\n",
       "</style>\n",
       "<table border=\"1\" class=\"dataframe\">\n",
       "  <thead>\n",
       "    <tr style=\"text-align: right;\">\n",
       "      <th></th>\n",
       "      <th>Region</th>\n",
       "      <th>City</th>\n",
       "      <th>County</th>\n",
       "      <th>State</th>\n",
       "      <th>Zip Code</th>\n",
       "      <th>Site Name</th>\n",
       "    </tr>\n",
       "  </thead>\n",
       "  <tbody>\n",
       "    <tr>\n",
       "      <th>0</th>\n",
       "      <td>1</td>\n",
       "      <td>FAIRHAVEN</td>\n",
       "      <td>BRISTOL</td>\n",
       "      <td>Massachusetts</td>\n",
       "      <td>2719</td>\n",
       "      <td>ATLAS TACK CORP.</td>\n",
       "    </tr>\n",
       "    <tr>\n",
       "      <th>1</th>\n",
       "      <td>1</td>\n",
       "      <td>LONDONDERRY</td>\n",
       "      <td>ROCKINGHAM</td>\n",
       "      <td>New Hampshire</td>\n",
       "      <td>3053</td>\n",
       "      <td>AUBURN ROAD LANDFILL</td>\n",
       "    </tr>\n",
       "    <tr>\n",
       "      <th>2</th>\n",
       "      <td>1</td>\n",
       "      <td>HOLBROOK</td>\n",
       "      <td>NORFOLK</td>\n",
       "      <td>Massachusetts</td>\n",
       "      <td>2343</td>\n",
       "      <td>BAIRD &amp; MCGUIRE</td>\n",
       "    </tr>\n",
       "    <tr>\n",
       "      <th>3</th>\n",
       "      <td>1</td>\n",
       "      <td>BARKHAMSTED</td>\n",
       "      <td>LITCHFIELD</td>\n",
       "      <td>Connecticut</td>\n",
       "      <td>6063</td>\n",
       "      <td>BARKHAMSTED-NEW HARTFORD LANDFILL</td>\n",
       "    </tr>\n",
       "    <tr>\n",
       "      <th>4</th>\n",
       "      <td>1</td>\n",
       "      <td>BEACON FALLS</td>\n",
       "      <td>NEW HAVEN</td>\n",
       "      <td>Connecticut</td>\n",
       "      <td>6403</td>\n",
       "      <td>BEACON HEIGHTS LANDFILL</td>\n",
       "    </tr>\n",
       "  </tbody>\n",
       "</table>\n",
       "</div>"
      ],
      "text/plain": [
       "   Region          City      County          State Zip Code  \\\n",
       "0       1     FAIRHAVEN     BRISTOL  Massachusetts     2719   \n",
       "1       1   LONDONDERRY  ROCKINGHAM  New Hampshire     3053   \n",
       "2       1      HOLBROOK     NORFOLK  Massachusetts     2343   \n",
       "3       1   BARKHAMSTED  LITCHFIELD    Connecticut     6063   \n",
       "4       1  BEACON FALLS   NEW HAVEN    Connecticut     6403   \n",
       "\n",
       "                           Site Name  \n",
       "0                   ATLAS TACK CORP.  \n",
       "1               AUBURN ROAD LANDFILL  \n",
       "2                    BAIRD & MCGUIRE  \n",
       "3  BARKHAMSTED-NEW HARTFORD LANDFILL  \n",
       "4            BEACON HEIGHTS LANDFILL  "
      ]
     },
     "execution_count": 3,
     "metadata": {},
     "output_type": "execute_result"
    }
   ],
   "source": [
    "sf_sites_df.head()"
   ]
  },
  {
   "cell_type": "code",
   "execution_count": 15,
   "metadata": {},
   "outputs": [
    {
     "data": {
      "text/html": [
       "<div>\n",
       "<style scoped>\n",
       "    .dataframe tbody tr th:only-of-type {\n",
       "        vertical-align: middle;\n",
       "    }\n",
       "\n",
       "    .dataframe tbody tr th {\n",
       "        vertical-align: top;\n",
       "    }\n",
       "\n",
       "    .dataframe thead th {\n",
       "        text-align: right;\n",
       "    }\n",
       "</style>\n",
       "<table border=\"1\" class=\"dataframe\">\n",
       "  <thead>\n",
       "    <tr style=\"text-align: right;\">\n",
       "      <th></th>\n",
       "      <th>Region</th>\n",
       "      <th>City</th>\n",
       "      <th>County</th>\n",
       "      <th>State</th>\n",
       "      <th>Zip Code</th>\n",
       "      <th>Site Name</th>\n",
       "    </tr>\n",
       "  </thead>\n",
       "  <tbody>\n",
       "    <tr>\n",
       "      <th>885</th>\n",
       "      <td>4</td>\n",
       "      <td>AXIS</td>\n",
       "      <td>MOBILE</td>\n",
       "      <td>Alabama</td>\n",
       "      <td>36505</td>\n",
       "      <td>STAUFFER CHEMICAL CO. (LEMOYNE PLANT)</td>\n",
       "    </tr>\n",
       "    <tr>\n",
       "      <th>884</th>\n",
       "      <td>4</td>\n",
       "      <td>BUCKS</td>\n",
       "      <td>MOBILE</td>\n",
       "      <td>Alabama</td>\n",
       "      <td>36512</td>\n",
       "      <td>STAUFFER CHEMICAL CO. (COLD CREEK PLANT)</td>\n",
       "    </tr>\n",
       "    <tr>\n",
       "      <th>644</th>\n",
       "      <td>4</td>\n",
       "      <td>BIRMINGHAM</td>\n",
       "      <td>JEFFERSON</td>\n",
       "      <td>Alabama</td>\n",
       "      <td>35207</td>\n",
       "      <td>35TH AVENUE</td>\n",
       "    </tr>\n",
       "    <tr>\n",
       "      <th>653</th>\n",
       "      <td>4</td>\n",
       "      <td>CHILDERSBURG</td>\n",
       "      <td>TALLADEGA</td>\n",
       "      <td>Alabama</td>\n",
       "      <td>35044</td>\n",
       "      <td>ALABAMA ARMY AMMUNITION PLANT</td>\n",
       "    </tr>\n",
       "    <tr>\n",
       "      <th>654</th>\n",
       "      <td>4</td>\n",
       "      <td>VINCENT</td>\n",
       "      <td>SHELBY</td>\n",
       "      <td>Alabama</td>\n",
       "      <td>35178</td>\n",
       "      <td>ALABAMA PLATING COMPANY, INC.</td>\n",
       "    </tr>\n",
       "  </tbody>\n",
       "</table>\n",
       "</div>"
      ],
      "text/plain": [
       "     Region          City     County    State Zip Code  \\\n",
       "885       4          AXIS     MOBILE  Alabama    36505   \n",
       "884       4         BUCKS     MOBILE  Alabama    36512   \n",
       "644       4    BIRMINGHAM  JEFFERSON  Alabama    35207   \n",
       "653       4  CHILDERSBURG  TALLADEGA  Alabama    35044   \n",
       "654       4       VINCENT     SHELBY  Alabama    35178   \n",
       "\n",
       "                                    Site Name  \n",
       "885     STAUFFER CHEMICAL CO. (LEMOYNE PLANT)  \n",
       "884  STAUFFER CHEMICAL CO. (COLD CREEK PLANT)  \n",
       "644                               35TH AVENUE  \n",
       "653             ALABAMA ARMY AMMUNITION PLANT  \n",
       "654             ALABAMA PLATING COMPANY, INC.  "
      ]
     },
     "execution_count": 15,
     "metadata": {},
     "output_type": "execute_result"
    }
   ],
   "source": [
    "sf_sites_alpha = sf_sites_df.sort_values(by=\"State\")\n",
    "sf_sites_alpha.head()"
   ]
  },
  {
   "cell_type": "code",
   "execution_count": 21,
   "metadata": {},
   "outputs": [],
   "source": [
    "superfund_sites_freq = sf_sites_alpha['State'].value_counts()"
   ]
  },
  {
   "cell_type": "code",
   "execution_count": 23,
   "metadata": {},
   "outputs": [
    {
     "data": {
      "text/plain": [
       "New Jersey      150\n",
       "Pennsylvania    127\n",
       "New York        120\n",
       "California      114\n",
       "Florida          92\n",
       "Name: State, dtype: int64"
      ]
     },
     "execution_count": 23,
     "metadata": {},
     "output_type": "execute_result"
    }
   ],
   "source": [
    "superfund_sites_freq.head()"
   ]
  },
  {
   "cell_type": "code",
   "execution_count": 28,
   "metadata": {},
   "outputs": [
    {
     "data": {
      "text/plain": [
       "New Jersey                        150\n",
       "Pennsylvania                      127\n",
       "New York                          120\n",
       "California                        114\n",
       "Florida                            92\n",
       "Michigan                           89\n",
       "Illinois                           69\n",
       "Washington                         69\n",
       "Texas                              69\n",
       "Wisconsin                          55\n",
       "Ohio                               54\n",
       "Indiana                            53\n",
       "Minnesota                          47\n",
       "North Carolina                     46\n",
       "Massachusetts                      40\n",
       "Missouri                           39\n",
       "South Carolina                     36\n",
       "Virginia                           35\n",
       "Tennessee                          29\n",
       "Louisiana                          28\n",
       "Puerto Rico                        25\n",
       "Maryland                           25\n",
       "Utah                               25\n",
       "Colorado                           24\n",
       "Iowa                               24\n",
       "Delaware                           23\n",
       "Georgia                            22\n",
       "New Hampshire                      22\n",
       "New Mexico                         20\n",
       "Kentucky                           20\n",
       "Oregon                             19\n",
       "Connecticut                        18\n",
       "Alabama                            18\n",
       "Kansas                             18\n",
       "Montana                            18\n",
       "Nebraska                           18\n",
       "Arkansas                           17\n",
       "Oklahoma                           16\n",
       "Maine                              16\n",
       "Mississippi                        14\n",
       "Arizona                            14\n",
       "Vermont                            14\n",
       "West Virginia                      13\n",
       "Rhode Island                       13\n",
       "Idaho                              12\n",
       "Alaska                             10\n",
       "Hawaii                              4\n",
       "South Dakota                        4\n",
       "Wyoming                             3\n",
       "Nevada                              3\n",
       "Virgin Islands of the U.S.          2\n",
       "North Dakota                        2\n",
       "Guam                                2\n",
       "American Samoa                      1\n",
       "Federated States of Micronesia      1\n",
       "Northern Mariana Islands            1\n",
       "District of Columbia                1\n",
       "Name: State, dtype: int64"
      ]
     },
     "execution_count": 28,
     "metadata": {},
     "output_type": "execute_result"
    }
   ],
   "source": [
    "superfund_sites_freq"
   ]
  },
  {
   "cell_type": "code",
   "execution_count": 29,
   "metadata": {},
   "outputs": [],
   "source": [
    "superfund_sites_freq.to_csv(\"Superfund_sites_totals.csv\")"
   ]
  },
  {
   "cell_type": "code",
   "execution_count": null,
   "metadata": {},
   "outputs": [],
   "source": []
  }
 ],
 "metadata": {
  "kernelspec": {
   "display_name": "Python 3",
   "language": "python",
   "name": "python3"
  },
  "language_info": {
   "codemirror_mode": {
    "name": "ipython",
    "version": 3
   },
   "file_extension": ".py",
   "mimetype": "text/x-python",
   "name": "python",
   "nbconvert_exporter": "python",
   "pygments_lexer": "ipython3",
   "version": "3.7.0"
  }
 },
 "nbformat": 4,
 "nbformat_minor": 2
}
