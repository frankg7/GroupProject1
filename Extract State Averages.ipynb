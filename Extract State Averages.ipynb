{
 "cells": [
  {
   "cell_type": "code",
   "execution_count": 1,
   "metadata": {},
   "outputs": [],
   "source": [
    "# Import relevant libraries\n",
    "import glob\n",
    "import requests\n",
    "import pandas as pd\n",
    "import numpy as np\n",
    "import string\n",
    "import googlemaps\n",
    "import gmaps\n",
    "import matplotlib.pyplot as plt\n",
    "from matplotlib.pyplot import figure\n",
    "import json\n",
    "import string\n",
    "import random\n",
    "from decimal import Decimal\n",
    "from scipy.stats import linregress\n",
    "import scipy.stats as stats\n",
    "import numpy\n",
    "\n",
    "import warnings\n",
    "warnings.filterwarnings('ignore')"
   ]
  },
  {
   "cell_type": "code",
   "execution_count": 2,
   "metadata": {},
   "outputs": [],
   "source": [
    "# READ DATA INTO DATAFRAMES\n",
    "file = \"Resources/state_lat_lng.csv\"\n",
    "read_file = pd.read_csv(file, encoding='latin1')\n",
    "state_df = pd.DataFrame(read_file)\n",
    "\n",
    "file = \"Resources/combined_data.csv\"\n",
    "read_file = pd.read_csv(file, encoding='latin1')\n",
    "df = pd.DataFrame(read_file)"
   ]
  },
  {
   "cell_type": "code",
   "execution_count": 3,
   "metadata": {
    "scrolled": false
   },
   "outputs": [
    {
     "data": {
      "text/html": [
       "<div>\n",
       "<style scoped>\n",
       "    .dataframe tbody tr th:only-of-type {\n",
       "        vertical-align: middle;\n",
       "    }\n",
       "\n",
       "    .dataframe tbody tr th {\n",
       "        vertical-align: top;\n",
       "    }\n",
       "\n",
       "    .dataframe thead th {\n",
       "        text-align: right;\n",
       "    }\n",
       "</style>\n",
       "<table border=\"1\" class=\"dataframe\">\n",
       "  <thead>\n",
       "    <tr style=\"text-align: right;\">\n",
       "      <th></th>\n",
       "      <th>Sites</th>\n",
       "    </tr>\n",
       "    <tr>\n",
       "      <th>State_name</th>\n",
       "      <th></th>\n",
       "    </tr>\n",
       "  </thead>\n",
       "  <tbody>\n",
       "    <tr>\n",
       "      <th>New Jersey</th>\n",
       "      <td>115</td>\n",
       "    </tr>\n",
       "    <tr>\n",
       "      <th>California</th>\n",
       "      <td>98</td>\n",
       "    </tr>\n",
       "    <tr>\n",
       "      <th>Pennsylvania</th>\n",
       "      <td>97</td>\n",
       "    </tr>\n",
       "    <tr>\n",
       "      <th>New York</th>\n",
       "      <td>85</td>\n",
       "    </tr>\n",
       "    <tr>\n",
       "      <th>Michigan</th>\n",
       "      <td>65</td>\n",
       "    </tr>\n",
       "  </tbody>\n",
       "</table>\n",
       "</div>"
      ],
      "text/plain": [
       "              Sites\n",
       "State_name         \n",
       "New Jersey      115\n",
       "California       98\n",
       "Pennsylvania     97\n",
       "New York         85\n",
       "Michigan         65"
      ]
     },
     "execution_count": 3,
     "metadata": {},
     "output_type": "execute_result"
    }
   ],
   "source": [
    "# Read Superfund locations\n",
    "url = \"Resources/priorities_list_full.json\"\n",
    "with open(url) as datafile:\n",
    "    data = json.load(datafile)\n",
    "superfund_site_df = pd.DataFrame(data)\n",
    "superfund_locations = superfund_site_df[['latitude', 'longitude']]\n",
    "superfund_locations = superfund_locations.dropna()\n",
    "\n",
    "# Number of Sites per State\n",
    "state_count = superfund_site_df.groupby(['State_name']).count()\n",
    "state_count = state_count['site_epa_id']\n",
    "state_count\n",
    "state_count_df = pd.DataFrame(state_count)\n",
    "state_count = state_count_df.rename(index=str, columns={\"site_epa_id\": \"Sites\", \"State_name\": \"State\"})\n",
    "sorted_state_count = state_count.sort_values(by=\"Sites\", ascending=False)\n",
    "sorted_state_count.to_csv(\"Resources/Superfund_count_by_state.csv\")\n",
    "sorted_state_count.head(5)"
   ]
  },
  {
   "cell_type": "code",
   "execution_count": 4,
   "metadata": {},
   "outputs": [],
   "source": [
    "# Example: my_list = df[\"cluster\"].tolist()\n",
    "site_count  = sorted_state_count[\"Sites\"].tolist()\n",
    "state_label = sorted_state_count.index.get_values()"
   ]
  },
  {
   "cell_type": "code",
   "execution_count": null,
   "metadata": {},
   "outputs": [],
   "source": [
    "# Get current size\n",
    "fig_size = plt.rcParams[\"figure.figsize\"]\n",
    " \n",
    "# Set figure width to 12 and height to 9\n",
    "fig_size[0] = 16\n",
    "fig_size[1] = 12\n",
    "plt.rcParams[\"figure.figsize\"] = fig_size"
   ]
  },
  {
   "cell_type": "code",
   "execution_count": null,
   "metadata": {},
   "outputs": [],
   "source": [
    "# Plot Superfund Count per State\n",
    "plt.title(\"Superfund Count by State\")\n",
    "plt.bar(state_label, site_count,  facecolor=\"red\", alpha=0.5, align=\"center\")\n",
    "plt.xticks(rotation='vertical',linespacing = 1)\n",
    "plt.savefig(\"Images/superfund_count_by_state.png\")\n",
    "plt.show()"
   ]
  },
  {
   "cell_type": "code",
   "execution_count": null,
   "metadata": {},
   "outputs": [],
   "source": [
    "# Get current size\n",
    "fig_size = plt.rcParams[\"figure.figsize\"]\n",
    " \n",
    "# Set figure width to 12 and height to 9\n",
    "fig_size[0] = 16\n",
    "fig_size[1] = 8\n",
    "plt.rcParams[\"figure.figsize\"] = fig_size"
   ]
  },
  {
   "cell_type": "code",
   "execution_count": null,
   "metadata": {},
   "outputs": [],
   "source": [
    "df['County'] = df['County'].map(lambda x: x.lstrip('').rstrip('(3'))\n",
    "df['County'] = df['County'].map(lambda x: x.lstrip('').rstrip('(5'))\n",
    "df['Age-Adjusted Incident Rate'] = df['Age-Adjusted Incident Rate'].map(lambda x: x.lstrip('').rstrip('#'))\n",
    "df = df[df['State'] != 'Nevada']\n",
    "same_df = df[df['State'] == df['County']]\n",
    "\n",
    "breast_df        = same_df.set_index('Cancer Type').filter(like='Breast', axis=0)\n",
    "colon_df         = same_df.set_index('Cancer Type').filter(like='Colon & Rectum', axis=0)\n",
    "lung_df          = same_df.set_index('Cancer Type').filter(like='Lung & Bronchus', axis=0)\n",
    "prostate_df      = same_df.set_index('Cancer Type').filter(like='Prostate', axis=0)"
   ]
  },
  {
   "cell_type": "code",
   "execution_count": null,
   "metadata": {},
   "outputs": [],
   "source": [
    "# SEPERATE DATAFRAMES INTO SEPARATE CANCER TYPES"
   ]
  },
  {
   "cell_type": "code",
   "execution_count": null,
   "metadata": {},
   "outputs": [],
   "source": [
    "breast_joined_df   = state_df.join(breast_df.set_index('State'), on='State')\n",
    "colon_joined_df    = state_df.join(colon_df.set_index('State'), on='State')\n",
    "lung_joined_df     = state_df.join(lung_df.set_index('State'), on='State')\n",
    "prostate_joined_df = state_df.join(prostate_df.set_index('State'), on='State')"
   ]
  },
  {
   "cell_type": "code",
   "execution_count": null,
   "metadata": {
    "scrolled": true
   },
   "outputs": [],
   "source": [
    "lung_joined_df = lung_joined_df.dropna()\n",
    "lung_joined_df = lung_joined_df.rename(index=str, columns={\"State\": \"State_name\"})\n",
    "lung_result = pd.merge(lung_joined_df, sorted_state_count, on='State_name', how='left')\n",
    "lung_result.head()"
   ]
  },
  {
   "cell_type": "code",
   "execution_count": null,
   "metadata": {},
   "outputs": [],
   "source": [
    "colon_joined_df = colon_joined_df.dropna()\n",
    "colon_joined_df = colon_joined_df.rename(index=str, columns={\"State\": \"State_name\"})\n",
    "colon_result = pd.merge(colon_joined_df, sorted_state_count, on='State_name', how='left')\n",
    "colon_result.head()"
   ]
  },
  {
   "cell_type": "code",
   "execution_count": null,
   "metadata": {},
   "outputs": [],
   "source": [
    "breast_joined_df = breast_joined_df.dropna()\n",
    "breast_joined_df = breast_joined_df.rename(index=str, columns={\"State\": \"State_name\"})\n",
    "breast_result = pd.merge(breast_joined_df, sorted_state_count, on='State_name', how='left')\n",
    "breast_result.head()"
   ]
  },
  {
   "cell_type": "code",
   "execution_count": null,
   "metadata": {
    "scrolled": true
   },
   "outputs": [],
   "source": [
    "prostate_joined_df = prostate_joined_df.dropna()\n",
    "prostate_joined_df = prostate_joined_df.rename(index=str, columns={\"State\": \"State_name\"})\n",
    "prostate_result = pd.merge(prostate_joined_df, sorted_state_count, on='State_name', how='left')\n",
    "prostate_result.head()"
   ]
  },
  {
   "cell_type": "code",
   "execution_count": null,
   "metadata": {},
   "outputs": [],
   "source": [
    "# CREATE NEW TABLES WITH INCIDENT RATE VS. SITES"
   ]
  },
  {
   "cell_type": "code",
   "execution_count": null,
   "metadata": {
    "scrolled": true
   },
   "outputs": [],
   "source": [
    "lung_short = lung_result[['State_name', 'Age-Adjusted Incident Rate', 'Sites']]\n",
    "lung_short['Age-Adjusted Incident Rate'] = lung_short['Age-Adjusted Incident Rate'].map(lambda x: x.lstrip('').rstrip(' #'))\n",
    "lung_short['Age-Adjusted Incident Rate'] = lung_short['Age-Adjusted Incident Rate'].apply(float)\n",
    "lung_short['Sites'] = lung_short['Sites'].apply(float)\n",
    "lung_short = lung_short.sort_values(by=\"Age-Adjusted Incident Rate\", ascending=False)\n",
    "lung_short = lung_short.dropna()\n",
    "lung_short.head()"
   ]
  },
  {
   "cell_type": "code",
   "execution_count": null,
   "metadata": {},
   "outputs": [],
   "source": [
    "colon_short = colon_result[['State_name', 'Age-Adjusted Incident Rate', 'Sites']]\n",
    "colon_short['Age-Adjusted Incident Rate'] = colon_short['Age-Adjusted Incident Rate'].map(lambda x: x.lstrip('').rstrip(' #'))\n",
    "colon_short['Age-Adjusted Incident Rate'] = colon_short['Age-Adjusted Incident Rate'].apply(float)\n",
    "colon_short = colon_short.sort_values(by=\"Age-Adjusted Incident Rate\", ascending=False)\n",
    "colon_short = colon_short.dropna()\n",
    "colon_short.head()"
   ]
  },
  {
   "cell_type": "code",
   "execution_count": null,
   "metadata": {},
   "outputs": [],
   "source": [
    "breast_short = breast_result[['State_name', 'Age-Adjusted Incident Rate', 'Sites']]\n",
    "breast_short['Age-Adjusted Incident Rate'] = breast_short['Age-Adjusted Incident Rate'].map(lambda x: x.lstrip('').rstrip(' #'))\n",
    "breast_short['Age-Adjusted Incident Rate'] = breast_short['Age-Adjusted Incident Rate'].apply(float)\n",
    "breast_short = breast_short.sort_values(by=\"Age-Adjusted Incident Rate\", ascending=False)\n",
    "breast_short = breast_short.dropna()\n",
    "breast_short.head()"
   ]
  },
  {
   "cell_type": "code",
   "execution_count": null,
   "metadata": {
    "scrolled": false
   },
   "outputs": [],
   "source": [
    "prostate_short = prostate_result[['State_name', 'Age-Adjusted Incident Rate', 'Sites']]\n",
    "prostate_short['Age-Adjusted Incident Rate'] = prostate_short['Age-Adjusted Incident Rate'].map(lambda x: x.lstrip('').rstrip(' #'))\n",
    "prostate_short['Age-Adjusted Incident Rate'] = prostate_short['Age-Adjusted Incident Rate'].apply(float).round(2)\n",
    "prostate_short = prostate_short.sort_values(by=\"Age-Adjusted Incident Rate\", ascending=False)\n",
    "prostate_short = prostate_short.dropna()\n",
    "prostate_short"
   ]
  },
  {
   "cell_type": "code",
   "execution_count": null,
   "metadata": {},
   "outputs": [],
   "source": [
    "# CALCULATE RANGE DELTAS"
   ]
  },
  {
   "cell_type": "code",
   "execution_count": null,
   "metadata": {},
   "outputs": [],
   "source": [
    "lung_range_max = Decimal(lung_short['Age-Adjusted Incident Rate'].max())\n",
    "lung_range_min = Decimal(lung_short['Age-Adjusted Incident Rate'].min())\n",
    "lung_range     = lung_range_max - lung_range_min\n",
    "print(lung_range)\n"
   ]
  },
  {
   "cell_type": "code",
   "execution_count": null,
   "metadata": {},
   "outputs": [],
   "source": [
    "colon_range_max = Decimal(colon_short['Age-Adjusted Incident Rate'].max())\n",
    "colon_range_min = Decimal(colon_short['Age-Adjusted Incident Rate'].min())\n",
    "colon_range     = colon_range_max - colon_range_min\n",
    "print(colon_range)"
   ]
  },
  {
   "cell_type": "code",
   "execution_count": null,
   "metadata": {},
   "outputs": [],
   "source": [
    "breast_range_max = Decimal(breast_short['Age-Adjusted Incident Rate'].max())\n",
    "breast_range_min = Decimal(breast_short['Age-Adjusted Incident Rate'].min())\n",
    "breast_range     = breast_range_max - breast_range_min\n",
    "print(breast_range)"
   ]
  },
  {
   "cell_type": "code",
   "execution_count": null,
   "metadata": {
    "scrolled": true
   },
   "outputs": [],
   "source": [
    "prostate_range_max = Decimal(prostate_short['Age-Adjusted Incident Rate'].max())\n",
    "prostate_range_min = Decimal(prostate_short['Age-Adjusted Incident Rate'].min())\n",
    "prostate_range     = prostate_range_max - prostate_range_min\n",
    "print(prostate_range)"
   ]
  },
  {
   "cell_type": "code",
   "execution_count": null,
   "metadata": {},
   "outputs": [],
   "source": [
    "# CREATE CORRELATION GRAPHS FOR EACH CANCER TYPE"
   ]
  },
  {
   "cell_type": "code",
   "execution_count": null,
   "metadata": {},
   "outputs": [],
   "source": [
    "lung_site_count  = lung_short[\"Sites\"].tolist()\n",
    "lung_age_rate  = lung_short[\"Age-Adjusted Incident Rate\"].tolist()\n",
    "\n",
    "plt.title(\"Lung Cancer - Number of Superfund Sites vs. Incident Rate\")\n",
    "plt.xlabel(\"Age-Adjusted Incident Rate\")\n",
    "plt.ylabel(\"Number of Sites per state\")\n",
    "plt.scatter(lung_age_rate, lung_site_count, marker=\"o\", color=\"red\")\n",
    "plt.xticks(rotation='vertical',linespacing = 1)\n",
    "plt.savefig(\"Images/lung_cancer_scatter.png\")\n",
    "plt.show()"
   ]
  },
  {
   "cell_type": "code",
   "execution_count": null,
   "metadata": {},
   "outputs": [],
   "source": [
    "colon_site_count  = colon_short[\"Sites\"].tolist()\n",
    "colon_age_rate  = colon_short[\"Age-Adjusted Incident Rate\"].tolist()\n",
    "\n",
    "plt.title(\"Colon Cancer - Number of Superfund Sites vs. Incident Rate\")\n",
    "plt.xlabel(\"Age-Adjusted Incident Rate\")\n",
    "plt.ylabel(\"Number of Sites per state\")\n",
    "plt.xticks(rotation='vertical', linespacing=1)\n",
    "plt.scatter(colon_age_rate, colon_site_count, marker=\"o\", color=\"red\")\n",
    "plt.savefig(\"Images/colon_cancer_scatter.png\")\n",
    "plt.show()"
   ]
  },
  {
   "cell_type": "code",
   "execution_count": null,
   "metadata": {},
   "outputs": [],
   "source": [
    "breast_site_count  = breast_short[\"Sites\"].tolist()\n",
    "breast_age_rate    = breast_short[\"Age-Adjusted Incident Rate\"].tolist()\n",
    "\n",
    "plt.title(\"Breast Cancer - Number of Superfund Sites vs. Incident Rate\")\n",
    "plt.xlabel(\"Age-Adjusted Incident Rate\")\n",
    "plt.ylabel(\"Number of Sites per state\")\n",
    "plt.xticks(rotation='vertical', linespacing=1)\n",
    "plt.scatter(breast_age_rate, breast_site_count, marker=\"o\", color=\"red\")\n",
    "plt.savefig(\"Images/breast_cancer_scatter.png\")\n",
    "plt.show()"
   ]
  },
  {
   "cell_type": "code",
   "execution_count": null,
   "metadata": {
    "scrolled": true
   },
   "outputs": [],
   "source": [
    "prostate_site_count  = prostate_short[\"Sites\"].tolist()\n",
    "prostate_age_rate    = prostate_short[\"Age-Adjusted Incident Rate\"].tolist()\n",
    "\n",
    "plt.title(\"Prostate Cancer - Number of Superfund Sites vs. Incident Rate\")\n",
    "plt.xlabel(\"Age-Adjusted Incident Rate\")\n",
    "plt.ylabel(\"Number of Sites per state\")\n",
    "plt.xticks(rotation='vertical', linespacing=1)\n",
    "plt.scatter(prostate_age_rate, prostate_site_count, marker=\"o\", color=\"red\")\n",
    "plt.savefig(\"Images/prostate_cancer_scatter.png\")\n",
    "plt.show()"
   ]
  },
  {
   "cell_type": "code",
   "execution_count": null,
   "metadata": {},
   "outputs": [],
   "source": [
    "# CALCULATE CORRELATION VALUES"
   ]
  },
  {
   "cell_type": "code",
   "execution_count": null,
   "metadata": {},
   "outputs": [],
   "source": [
    "critical_value = stats.chi2.ppf(q=0.95, df =2)\n",
    "critical_value"
   ]
  },
  {
   "cell_type": "code",
   "execution_count": null,
   "metadata": {},
   "outputs": [],
   "source": [
    "chi = stats.chisquare(lung_short['Sites'], lung_short['Age-Adjusted Incident Rate'])\n",
    "\n",
    "l_site = lung_short['Sites'].tolist()\n",
    "l_age  = lung_short['Age-Adjusted Incident Rate'].tolist()\n",
    "\n",
    "print (\"CHI: \" + str(chi))\n",
    "\n",
    "coe = numpy.corrcoef(l_site, l_age)\n",
    "print(\"CORRCOEF: \" + str(coe))\n",
    "\n",
    "pear = stats.pearsonr(l_site, l_age)\n",
    "print(\"PERSONR: \" + str(pear))"
   ]
  },
  {
   "cell_type": "code",
   "execution_count": null,
   "metadata": {},
   "outputs": [],
   "source": [
    "chi = stats.chisquare(colon_short['Sites'], colon_short['Age-Adjusted Incident Rate'])\n",
    "\n",
    "c_site = colon_short['Sites'].tolist()\n",
    "c_age  = colon_short['Age-Adjusted Incident Rate'].tolist()\n",
    "\n",
    "print (\"CHI: \" + str(chi))\n",
    "\n",
    "coe = numpy.corrcoef(c_site, c_age)\n",
    "print(\"CORRCOEF: \" + str(coe))\n",
    "\n",
    "pear = stats.pearsonr(c_site, c_age)\n",
    "print(\"PERSONR: \" + str(pear))"
   ]
  },
  {
   "cell_type": "code",
   "execution_count": null,
   "metadata": {},
   "outputs": [],
   "source": [
    "chi = stats.chisquare(breast_short['Sites'], breast_short['Age-Adjusted Incident Rate'])\n",
    "\n",
    "b_site = breast_short['Sites'].tolist()\n",
    "b_age  = breast_short['Age-Adjusted Incident Rate'].tolist()\n",
    "\n",
    "print (\"CHI: \" + str(chi))\n",
    "\n",
    "coe = numpy.corrcoef(b_site, b_age)\n",
    "print(\"CORRCOEF: \" + str(coe))\n",
    "\n",
    "pear = stats.pearsonr(b_site, b_age)\n",
    "print(\"PERSONR: \" + str(pear))"
   ]
  },
  {
   "cell_type": "code",
   "execution_count": null,
   "metadata": {},
   "outputs": [],
   "source": [
    "chi = stats.chisquare(prostate_short['Sites'], prostate_short['Age-Adjusted Incident Rate'])\n",
    "\n",
    "p_site = prostate_short['Sites'].tolist()\n",
    "p_age  = prostate_short['Age-Adjusted Incident Rate'].tolist()\n",
    "\n",
    "print (\"CHI: \" + str(chi))\n",
    "\n",
    "coe = numpy.corrcoef(p_site, p_age)\n",
    "print(\"CORRCOEF: \" + str(coe))\n",
    "\n",
    "pear = stats.pearsonr(p_site, p_age)\n",
    "print(\"PERSONR: \" + str(pear))"
   ]
  }
 ],
 "metadata": {
  "kernelspec": {
   "display_name": "Python 3",
   "language": "python",
   "name": "python3"
  },
  "language_info": {
   "codemirror_mode": {
    "name": "ipython",
    "version": 3
   },
   "file_extension": ".py",
   "mimetype": "text/x-python",
   "name": "python",
   "nbconvert_exporter": "python",
   "pygments_lexer": "ipython3",
   "version": "3.7.0"
  }
 },
 "nbformat": 4,
 "nbformat_minor": 2
}
