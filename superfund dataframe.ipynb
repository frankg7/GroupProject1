{
 "cells": [
  {
   "cell_type": "code",
   "execution_count": 25,
   "metadata": {},
   "outputs": [],
   "source": [
    "import glob\n",
    "import pandas as pd\n",
    "import numpy as np\n",
    "import string\n",
    "\n",
    "file = \"superfund_sites.csv\""
   ]
  },
  {
   "cell_type": "code",
   "execution_count": 26,
   "metadata": {},
   "outputs": [
    {
     "name": "stdout",
     "output_type": "stream",
     "text": [
      "Processing: superfund_sites.csv\n"
     ]
    },
    {
     "data": {
      "text/html": [
       "<div>\n",
       "<style scoped>\n",
       "    .dataframe tbody tr th:only-of-type {\n",
       "        vertical-align: middle;\n",
       "    }\n",
       "\n",
       "    .dataframe tbody tr th {\n",
       "        vertical-align: top;\n",
       "    }\n",
       "\n",
       "    .dataframe thead th {\n",
       "        text-align: right;\n",
       "    }\n",
       "</style>\n",
       "<table border=\"1\" class=\"dataframe\">\n",
       "  <thead>\n",
       "    <tr style=\"text-align: right;\">\n",
       "      <th></th>\n",
       "      <th>Region</th>\n",
       "      <th>City</th>\n",
       "      <th>County</th>\n",
       "      <th>State</th>\n",
       "      <th>Zip Code</th>\n",
       "      <th>Site Name</th>\n",
       "    </tr>\n",
       "  </thead>\n",
       "  <tbody>\n",
       "    <tr>\n",
       "      <th>0</th>\n",
       "      <td>1</td>\n",
       "      <td>FAIRHAVEN</td>\n",
       "      <td>BRISTOL</td>\n",
       "      <td>Massachusetts</td>\n",
       "      <td>2719</td>\n",
       "      <td>ATLAS TACK CORP.</td>\n",
       "    </tr>\n",
       "    <tr>\n",
       "      <th>1</th>\n",
       "      <td>1</td>\n",
       "      <td>LONDONDERRY</td>\n",
       "      <td>ROCKINGHAM</td>\n",
       "      <td>New Hampshire</td>\n",
       "      <td>3053</td>\n",
       "      <td>AUBURN ROAD LANDFILL</td>\n",
       "    </tr>\n",
       "    <tr>\n",
       "      <th>2</th>\n",
       "      <td>1</td>\n",
       "      <td>HOLBROOK</td>\n",
       "      <td>NORFOLK</td>\n",
       "      <td>Massachusetts</td>\n",
       "      <td>2343</td>\n",
       "      <td>BAIRD &amp; MCGUIRE</td>\n",
       "    </tr>\n",
       "    <tr>\n",
       "      <th>3</th>\n",
       "      <td>1</td>\n",
       "      <td>BARKHAMSTED</td>\n",
       "      <td>LITCHFIELD</td>\n",
       "      <td>Connecticut</td>\n",
       "      <td>6063</td>\n",
       "      <td>BARKHAMSTED-NEW HARTFORD LANDFILL</td>\n",
       "    </tr>\n",
       "    <tr>\n",
       "      <th>4</th>\n",
       "      <td>1</td>\n",
       "      <td>BEACON FALLS</td>\n",
       "      <td>NEW HAVEN</td>\n",
       "      <td>Connecticut</td>\n",
       "      <td>6403</td>\n",
       "      <td>BEACON HEIGHTS LANDFILL</td>\n",
       "    </tr>\n",
       "  </tbody>\n",
       "</table>\n",
       "</div>"
      ],
      "text/plain": [
       "   Region          City      County          State Zip Code  \\\n",
       "0       1     FAIRHAVEN     BRISTOL  Massachusetts     2719   \n",
       "1       1   LONDONDERRY  ROCKINGHAM  New Hampshire     3053   \n",
       "2       1      HOLBROOK     NORFOLK  Massachusetts     2343   \n",
       "3       1   BARKHAMSTED  LITCHFIELD    Connecticut     6063   \n",
       "4       1  BEACON FALLS   NEW HAVEN    Connecticut     6403   \n",
       "\n",
       "                           Site Name  \n",
       "0                   ATLAS TACK CORP.  \n",
       "1               AUBURN ROAD LANDFILL  \n",
       "2                    BAIRD & MCGUIRE  \n",
       "3  BARKHAMSTED-NEW HARTFORD LANDFILL  \n",
       "4            BEACON HEIGHTS LANDFILL  "
      ]
     },
     "execution_count": 26,
     "metadata": {},
     "output_type": "execute_result"
    }
   ],
   "source": [
    "print(\"Processing: \" + str(file))\n",
    "read_file = pd.read_csv(file, encoding='latin1')\n",
    "superfund_df = pd.DataFrame(read_file)\n",
    "\n",
    "superfund_df.head()"
   ]
  },
  {
   "cell_type": "code",
   "execution_count": null,
   "metadata": {},
   "outputs": [],
   "source": [
    "# Add API connection\n",
    "\n",
    "# Lookup Zipcode and determine county\n",
    "\n",
    "# Find latitude and lng of county"
   ]
  },
  {
   "cell_type": "code",
   "execution_count": null,
   "metadata": {},
   "outputs": [],
   "source": []
  }
 ],
 "metadata": {
  "kernelspec": {
   "display_name": "Python 3",
   "language": "python",
   "name": "python3"
  },
  "language_info": {
   "codemirror_mode": {
    "name": "ipython",
    "version": 3
   },
   "file_extension": ".py",
   "mimetype": "text/x-python",
   "name": "python",
   "nbconvert_exporter": "python",
   "pygments_lexer": "ipython3",
   "version": "3.7.0"
  }
 },
 "nbformat": 4,
 "nbformat_minor": 2
}
