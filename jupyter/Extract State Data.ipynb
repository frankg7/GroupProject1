{
 "cells": [
  {
   "cell_type": "code",
   "execution_count": 3,
   "metadata": {},
   "outputs": [],
   "source": [
    "import glob\n",
    "import pandas as pd\n",
    "import numpy as np\n",
    "import string\n",
    "\n",
    "csvfiles = glob.glob(\"Resources/states/*.csv\")"
   ]
  },
  {
   "cell_type": "code",
   "execution_count": 4,
   "metadata": {},
   "outputs": [
    {
     "ename": "NameError",
     "evalue": "name 'dfa' is not defined",
     "output_type": "error",
     "traceback": [
      "\u001b[1;31m---------------------------------------------------------------------------\u001b[0m",
      "\u001b[1;31mNameError\u001b[0m                                 Traceback (most recent call last)",
      "\u001b[1;32m<ipython-input-4-03d5a7d53d48>\u001b[0m in \u001b[0;36m<module>\u001b[1;34m()\u001b[0m\n\u001b[0;32m     25\u001b[0m         \u001b[0mdfa\u001b[0m \u001b[1;33m=\u001b[0m \u001b[0mresult\u001b[0m\u001b[1;33m\u001b[0m\u001b[0m\n\u001b[0;32m     26\u001b[0m \u001b[1;33m\u001b[0m\u001b[0m\n\u001b[1;32m---> 27\u001b[1;33m \u001b[0mnew\u001b[0m \u001b[1;33m=\u001b[0m \u001b[0mdfa\u001b[0m\u001b[1;33m.\u001b[0m\u001b[0mdropna\u001b[0m\u001b[1;33m(\u001b[0m\u001b[0msubset\u001b[0m\u001b[1;33m=\u001b[0m\u001b[1;33m[\u001b[0m\u001b[1;34m'FIPS'\u001b[0m\u001b[1;33m]\u001b[0m\u001b[1;33m)\u001b[0m\u001b[1;33m\u001b[0m\u001b[0m\n\u001b[0m\u001b[0;32m     28\u001b[0m \u001b[0mnew\u001b[0m\u001b[1;33m[\u001b[0m\u001b[1;34m'County'\u001b[0m\u001b[1;33m]\u001b[0m \u001b[1;33m=\u001b[0m \u001b[0mnew\u001b[0m\u001b[1;33m[\u001b[0m\u001b[1;34m'County'\u001b[0m\u001b[1;33m]\u001b[0m\u001b[1;33m.\u001b[0m\u001b[0mmap\u001b[0m\u001b[1;33m(\u001b[0m\u001b[1;32mlambda\u001b[0m \u001b[0mx\u001b[0m\u001b[1;33m:\u001b[0m \u001b[0mx\u001b[0m\u001b[1;33m.\u001b[0m\u001b[0mlstrip\u001b[0m\u001b[1;33m(\u001b[0m\u001b[1;34m''\u001b[0m\u001b[1;33m)\u001b[0m\u001b[1;33m.\u001b[0m\u001b[0mrstrip\u001b[0m\u001b[1;33m(\u001b[0m\u001b[1;34m'(6,10)'\u001b[0m\u001b[1;33m)\u001b[0m\u001b[1;33m)\u001b[0m\u001b[1;33m\u001b[0m\u001b[0m\n\u001b[0;32m     29\u001b[0m \u001b[0mnew\u001b[0m\u001b[1;33m[\u001b[0m\u001b[1;34m'County'\u001b[0m\u001b[1;33m]\u001b[0m \u001b[1;33m=\u001b[0m \u001b[0mnew\u001b[0m\u001b[1;33m[\u001b[0m\u001b[1;34m'County'\u001b[0m\u001b[1;33m]\u001b[0m\u001b[1;33m.\u001b[0m\u001b[0mmap\u001b[0m\u001b[1;33m(\u001b[0m\u001b[1;32mlambda\u001b[0m \u001b[0mx\u001b[0m\u001b[1;33m:\u001b[0m \u001b[0mx\u001b[0m\u001b[1;33m.\u001b[0m\u001b[0mlstrip\u001b[0m\u001b[1;33m(\u001b[0m\u001b[1;34m''\u001b[0m\u001b[1;33m)\u001b[0m\u001b[1;33m.\u001b[0m\u001b[0mrstrip\u001b[0m\u001b[1;33m(\u001b[0m\u001b[1;34m'(7,8'\u001b[0m\u001b[1;33m)\u001b[0m\u001b[1;33m)\u001b[0m\u001b[1;33m\u001b[0m\u001b[0m\n",
      "\u001b[1;31mNameError\u001b[0m: name 'dfa' is not defined"
     ]
    }
   ],
   "source": [
    "count = 0\n",
    "\n",
    "for file in csvfiles:\n",
    "    print(\"Processing: \" + file.upper())\n",
    "    read_file = pd.read_csv(file, encoding='latin1')\n",
    "    df = pd.DataFrame(read_file)\n",
    "    df = df.iloc[1:]\n",
    "    ctype = df.loc[1][0]\n",
    "    cancer_type,years = ctype.split(\",\")\n",
    "    df = df.iloc[7:]\n",
    "    df.dropna()\n",
    "    df.columns = ['County','FIPS','Met Health Obj','Age-Adjusted Incident Rate','Lower 95% Confidence Interval','Upper 95% Confidence Interval','Average Annual Count','Recent Trend','Recent 5-Year Trend in Incidence Rates','Lower 95% Confidence Interval','Upper 95% Confidence Interval']\n",
    "    df['Cancer Type'] = cancer_type\n",
    "    df['Years'] = years\n",
    "    state = df.loc[8][0]\n",
    "    state_value,years = state.split(\"(\")\n",
    "    #print(state_value)\n",
    "    df['State'] = state_value\n",
    "    \n",
    "    if count == 0:\n",
    "        dfa = df\n",
    "        count = 1\n",
    "    elif count > 0:\n",
    "        result = dfa.append(df)\n",
    "        dfa = result\n",
    "\n",
    "new = dfa.dropna(subset=['FIPS'])\n",
    "new['County'] = new['County'].map(lambda x: x.lstrip('').rstrip('(6,10)'))\n",
    "new['County'] = new['County'].map(lambda x: x.lstrip('').rstrip('(7,8'))\n",
    "new['County'] = new['County'].map(lambda x: x.lstrip('').rstrip('(SEER+NPCR'))\n",
    "\n",
    "resorted_df = new[['Years','Cancer Type','State','County','FIPS','Met Health Obj','Age-Adjusted Incident Rate','Lower 95% Confidence Interval','Upper 95% Confidence Interval','Average Annual Count','Recent Trend','Recent 5-Year Trend in Incidence Rates','Lower 95% Confidence Interval','Upper 95% Confidence Interval']]\n",
    "resorted_df.to_csv(\"Resources/combined_data.csv\")\n",
    "resorted_df.head()"
   ]
  }
 ],
 "metadata": {
  "kernelspec": {
   "display_name": "Python 3",
   "language": "python",
   "name": "python3"
  },
  "language_info": {
   "codemirror_mode": {
    "name": "ipython",
    "version": 3
   },
   "file_extension": ".py",
   "mimetype": "text/x-python",
   "name": "python",
   "nbconvert_exporter": "python",
   "pygments_lexer": "ipython3",
   "version": "3.7.0"
  }
 },
 "nbformat": 4,
 "nbformat_minor": 2
}
