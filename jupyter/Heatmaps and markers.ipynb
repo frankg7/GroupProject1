{
 "cells": [
  {
   "cell_type": "code",
   "execution_count": 1,
   "metadata": {},
   "outputs": [],
   "source": [
    "# Import relevant libraries\n",
    "import glob\n",
    "import requests\n",
    "import pandas as pd\n",
    "import numpy as np\n",
    "import string\n",
    "import googlemaps\n",
    "import gmaps\n",
    "import matplotlib.pyplot as plt\n",
    "import json\n",
    "import warnings\n",
    "import gmaps.geojson_geometries\n",
    "from matplotlib.cm import viridis\n",
    "from matplotlib.colors import to_hex\n",
    "from matplotlib.cm import viridis\n",
    "\n",
    "# Hide warning messages\n",
    "from ipywidgets.embed import embed_minimal_html\n",
    "warnings.filterwarnings('ignore')\n",
    "\n",
    "# Google developer API key\n",
    "from config import gkey\n",
    "\n",
    "# Access maps with unique API key\n",
    "gmaps.configure(api_key=gkey)\n",
    "gm = googlemaps.Client(key=gkey)\n",
    "gmaps.configure(api_key=gkey) \n",
    "\n",
    "file = \"Resources/county_export_final_fg.csv\""
   ]
  },
  {
   "cell_type": "code",
   "execution_count": 2,
   "metadata": {
    "scrolled": true
   },
   "outputs": [
    {
     "data": {
      "text/html": [
       "<div>\n",
       "<style scoped>\n",
       "    .dataframe tbody tr th:only-of-type {\n",
       "        vertical-align: middle;\n",
       "    }\n",
       "\n",
       "    .dataframe tbody tr th {\n",
       "        vertical-align: top;\n",
       "    }\n",
       "\n",
       "    .dataframe thead th {\n",
       "        text-align: right;\n",
       "    }\n",
       "</style>\n",
       "<table border=\"1\" class=\"dataframe\">\n",
       "  <thead>\n",
       "    <tr style=\"text-align: right;\">\n",
       "      <th></th>\n",
       "      <th>Sites</th>\n",
       "    </tr>\n",
       "    <tr>\n",
       "      <th>State_name</th>\n",
       "      <th></th>\n",
       "    </tr>\n",
       "  </thead>\n",
       "  <tbody>\n",
       "    <tr>\n",
       "      <th>New Jersey</th>\n",
       "      <td>115</td>\n",
       "    </tr>\n",
       "    <tr>\n",
       "      <th>California</th>\n",
       "      <td>98</td>\n",
       "    </tr>\n",
       "    <tr>\n",
       "      <th>Pennsylvania</th>\n",
       "      <td>97</td>\n",
       "    </tr>\n",
       "    <tr>\n",
       "      <th>New York</th>\n",
       "      <td>85</td>\n",
       "    </tr>\n",
       "    <tr>\n",
       "      <th>Michigan</th>\n",
       "      <td>65</td>\n",
       "    </tr>\n",
       "  </tbody>\n",
       "</table>\n",
       "</div>"
      ],
      "text/plain": [
       "              Sites\n",
       "State_name         \n",
       "New Jersey      115\n",
       "California       98\n",
       "Pennsylvania     97\n",
       "New York         85\n",
       "Michigan         65"
      ]
     },
     "execution_count": 2,
     "metadata": {},
     "output_type": "execute_result"
    }
   ],
   "source": [
    "# Read Superfund locations\n",
    "url = \"Resources/priorities_list_full.json\"\n",
    "with open(url) as datafile:\n",
    "    data = json.load(datafile)\n",
    "superfund_site_df = pd.DataFrame(data)\n",
    "superfund_locations = superfund_site_df[['latitude', 'longitude']]\n",
    "superfund_locations = superfund_locations.dropna()\n",
    "\n",
    "# Number of Sites per State\n",
    "state_count = superfund_site_df.groupby(['State_name']).count()\n",
    "state_count = state_count['site_epa_id']\n",
    "state_count\n",
    "state_count_df = pd.DataFrame(state_count)\n",
    "state_count = state_count_df.rename(index=str, columns={\"site_epa_id\": \"Sites\"})\n",
    "sorted_state_count = state_count.sort_values(by=\"Sites\", ascending=False)\n",
    "sorted_state_count.to_csv(\"Resources/Superfund_count_by_state.csv\")\n",
    "sorted_state_count.head()"
   ]
  },
  {
   "cell_type": "code",
   "execution_count": 3,
   "metadata": {
    "scrolled": true
   },
   "outputs": [
    {
     "name": "stdout",
     "output_type": "stream",
     "text": [
      "Processing: Resources/county_export_final_fg.csv\n"
     ]
    }
   ],
   "source": [
    "# Read County data\n",
    "print(\"Processing: \" + str(file))\n",
    "read_file = pd.read_csv(file, encoding='latin1')\n",
    "cancer_df = pd.DataFrame(read_file)\n",
    "#cancer_df.head()"
   ]
  },
  {
   "cell_type": "code",
   "execution_count": 4,
   "metadata": {
    "scrolled": true
   },
   "outputs": [],
   "source": [
    "combined_data = \"Resources/combined_data.csv\"\n",
    "read_file = pd.read_csv(combined_data, encoding='latin1')\n",
    "combined_data_df = pd.DataFrame(read_file)\n",
    "#combined_data_df.head()"
   ]
  },
  {
   "cell_type": "code",
   "execution_count": 5,
   "metadata": {},
   "outputs": [],
   "source": [
    "result = pd.merge(combined_data_df, cancer_df, on='County', how='left')\n",
    "result = result.dropna()\n",
    "\n",
    "# Filter out extra characters and the states that don't contain information.\n",
    "result['Age-Adjusted Incident Rate'] = result['Age-Adjusted Incident Rate'].map(lambda x: x.lstrip('').rstrip(' #'))\n",
    "result['Age-Adjusted Incident Rate'] = result['Age-Adjusted Incident Rate'].map(lambda x: x.lstrip('').rstrip(' *'))\n",
    "result = result[result['State'] != 'Kansas']\n",
    "result = result[result['State'] != 'Minnesota']\n",
    "result = result[result['State'] != 'Nevada']\n",
    "result = result[result['Age-Adjusted Incident Rate'] != '']\n",
    "\n",
    "# Separate locations by Cancer Type\n",
    "breast_df      = result.set_index('Cancer Type').filter(like='Breast', axis=0)\n",
    "colon_df       = result.set_index('Cancer Type').filter(like='Colon & Rectum', axis=0)\n",
    "lung_df        = result.set_index('Cancer Type').filter(like='Lung & Bronchus', axis=0)\n",
    "prostate_df    = result.set_index('Cancer Type').filter(like='Prostate', axis=0)"
   ]
  },
  {
   "cell_type": "code",
   "execution_count": 6,
   "metadata": {},
   "outputs": [
    {
     "name": "stdout",
     "output_type": "stream",
     "text": [
      "center= 61.52401 105.318756\n"
     ]
    }
   ],
   "source": [
    "# do geocode for the whole mega city\n",
    "geocode_result = gm.geocode('Russia')[0]  # change the name into your city of interest\n",
    "\n",
    "# get the center of the city\n",
    "center_lat=geocode_result['geometry']['location']['lat']\n",
    "center_lng=geocode_result['geometry']['location']['lng']\n",
    "print('center=',center_lat,center_lng)"
   ]
  },
  {
   "cell_type": "code",
   "execution_count": 7,
   "metadata": {},
   "outputs": [],
   "source": [
    "def drawHeatMap(location, val, zoom, intensity, radius):\n",
    "    # setting the data and parameters\n",
    "    heatmap_layer = gmaps.heatmap_layer(locations, val, dissipating = True)\n",
    "    heatmap_layer.max_intensity = intensity\n",
    "    heatmap_layer.point_radius = radius\n",
    "    # draw the heatmap into a figure\n",
    "    fig = gmaps.figure(map_type='HYBRID', center = [center_lat,center_lng], zoom_level=zoom)\n",
    "    fig.add_layer(heatmap_layer)\n",
    "    marker_layer = gmaps.marker_layer(superfund_locations)\n",
    "    fig.add_layer(marker_layer)\n",
    "    return fig\n",
    "\n",
    "# Create Counties overlay with GeoJson data\n",
    "with open('Resources/gz_2010_us_050_00_5m.json') as f:\n",
    "    geometry = json.load(f)\n",
    "fig = gmaps.figure()\n",
    "color = (0, 0, 0, 0.3)\n",
    "geojson_layer = gmaps.geojson_layer(geometry,fill_color=color)"
   ]
  },
  {
   "cell_type": "code",
   "execution_count": 8,
   "metadata": {},
   "outputs": [
    {
     "data": {
      "application/vnd.jupyter.widget-view+json": {
       "model_id": "91af0e1f19cc43d9bffdb8e5463035f4",
       "version_major": 2,
       "version_minor": 0
      },
      "text/plain": [
       "Figure(layout=FigureLayout(height='420px'))"
      ]
     },
     "metadata": {},
     "output_type": "display_data"
    }
   ],
   "source": [
    "# Breast\n",
    "breast_locations = breast_df[['County','Latitude', 'Longitude','Age-Adjusted Incident Rate']]\n",
    "breast_locations['Age-Adjusted Incident Rate'] = breast_locations['Age-Adjusted Incident Rate'].astype('float64') \n",
    "breast_locations['Age-Adjusted Incident Rate'] = breast_locations['Age-Adjusted Incident Rate'].div(15)\n",
    "b_locations = breast_locations[['Latitude', 'Longitude']]\n",
    "weights = breast_locations['Age-Adjusted Incident Rate']\n",
    "\n",
    "fig = gmaps.figure(map_type='HYBRID')\n",
    "fig.add_layer(gmaps.heatmap_layer(b_locations, weights=weights, max_intensity = 80, point_radius = 10, dissipating = True))\n",
    "#marker_layer = gmaps.marker_layer(superfund_locations)\n",
    "#fig.add_layer(marker_layer)\n",
    "fig.add_layer(geojson_layer)\n",
    "fig"
   ]
  },
  {
   "cell_type": "code",
   "execution_count": 9,
   "metadata": {},
   "outputs": [
    {
     "data": {
      "application/vnd.jupyter.widget-view+json": {
       "model_id": "6bab540f6ebc4e29a4e3e607f76a1491",
       "version_major": 2,
       "version_minor": 0
      },
      "text/plain": [
       "Figure(layout=FigureLayout(height='420px'))"
      ]
     },
     "metadata": {},
     "output_type": "display_data"
    }
   ],
   "source": [
    "# Lung\n",
    "lung_locations = lung_df[['County','Latitude', 'Longitude','Age-Adjusted Incident Rate']]\n",
    "lung_locations['Age-Adjusted Incident Rate'] = lung_locations['Age-Adjusted Incident Rate'].astype('float64') \n",
    "lung_locations['Age-Adjusted Incident Rate'] = lung_locations['Age-Adjusted Incident Rate'].div(15)\n",
    "l_locations = lung_locations[['Latitude', 'Longitude']]\n",
    "weights = lung_locations['Age-Adjusted Incident Rate']\n",
    "\n",
    "fig = gmaps.figure(map_type='HYBRID')\n",
    "fig.add_layer(gmaps.heatmap_layer(l_locations, weights=weights, max_intensity = 80, point_radius = 10, dissipating = True))\n",
    "#marker_layer = gmaps.marker_layer(superfund_locations)\n",
    "#fig.add_layer(marker_layer)\n",
    "fig.add_layer(geojson_layer)\n",
    "fig"
   ]
  },
  {
   "cell_type": "code",
   "execution_count": 10,
   "metadata": {},
   "outputs": [
    {
     "data": {
      "application/vnd.jupyter.widget-view+json": {
       "model_id": "3473e32213c5486cab39f56260f5a9f0",
       "version_major": 2,
       "version_minor": 0
      },
      "text/plain": [
       "Figure(layout=FigureLayout(height='420px'))"
      ]
     },
     "metadata": {},
     "output_type": "display_data"
    }
   ],
   "source": [
    "# Colon\n",
    "colon_locations = colon_df[['County','Latitude', 'Longitude','Age-Adjusted Incident Rate']]\n",
    "colon_locations['Age-Adjusted Incident Rate'] = colon_locations['Age-Adjusted Incident Rate'].astype('float64') \n",
    "colon_locations['Age-Adjusted Incident Rate'] = colon_locations['Age-Adjusted Incident Rate'].div(15)\n",
    "c_locations = colon_locations[['Latitude', 'Longitude']]\n",
    "weights = colon_locations['Age-Adjusted Incident Rate']\n",
    "\n",
    "fig = gmaps.figure(map_type='HYBRID')\n",
    "fig.add_layer(gmaps.heatmap_layer(c_locations, weights=weights, max_intensity = 80, point_radius = 10, dissipating = True))\n",
    "#marker_layer = gmaps.marker_layer(superfund_locations)\n",
    "#fig.add_layer(marker_layer)\n",
    "fig.add_layer(geojson_layer)\n",
    "fig\n"
   ]
  },
  {
   "cell_type": "code",
   "execution_count": 11,
   "metadata": {},
   "outputs": [
    {
     "data": {
      "application/vnd.jupyter.widget-view+json": {
       "model_id": "68f1775bed034764aaa19feb2a60270b",
       "version_major": 2,
       "version_minor": 0
      },
      "text/plain": [
       "Figure(layout=FigureLayout(height='420px'))"
      ]
     },
     "metadata": {},
     "output_type": "display_data"
    }
   ],
   "source": [
    "# Prostate\n",
    "prostate_locations = prostate_df[['County','Latitude', 'Longitude','Age-Adjusted Incident Rate']]\n",
    "prostate_locations['Age-Adjusted Incident Rate'] = prostate_locations['Age-Adjusted Incident Rate'].astype('float64') \n",
    "prostate_locations['Age-Adjusted Incident Rate'] = prostate_locations['Age-Adjusted Incident Rate'].div(15)\n",
    "p_locations = prostate_locations[['Latitude', 'Longitude']]\n",
    "weights = prostate_locations['Age-Adjusted Incident Rate']\n",
    "\n",
    "fig = gmaps.figure(map_type='HYBRID')\n",
    "fig.add_layer(gmaps.heatmap_layer(p_locations, weights=weights, max_intensity = 80, point_radius = 10, dissipating = True))\n",
    "#marker_layer = gmaps.marker_layer(superfund_locations)\n",
    "#fig.add_layer(marker_layer)\n",
    "fig.add_layer(geojson_layer)\n",
    "fig\n"
   ]
  },
  {
   "cell_type": "code",
   "execution_count": 12,
   "metadata": {},
   "outputs": [
    {
     "data": {
      "application/vnd.jupyter.widget-view+json": {
       "model_id": "3e13ec9922f04eb58f5d33d693be655d",
       "version_major": 2,
       "version_minor": 0
      },
      "text/plain": [
       "Figure(layout=FigureLayout(height='420px'))"
      ]
     },
     "metadata": {},
     "output_type": "display_data"
    }
   ],
   "source": [
    "# All\n",
    "all_locations = result[['County','Latitude', 'Longitude','Age-Adjusted Incident Rate']]\n",
    "all_locations['Age-Adjusted Incident Rate'] = all_locations['Age-Adjusted Incident Rate'].astype('float64') \n",
    "all_locations['Age-Adjusted Incident Rate'] = all_locations['Age-Adjusted Incident Rate'].div(15)\n",
    "a_locations = all_locations[['Latitude', 'Longitude']]\n",
    "weights = all_locations['Age-Adjusted Incident Rate']\n",
    "\n",
    "fig = gmaps.figure(map_type='HYBRID')\n",
    "fig.add_layer(gmaps.heatmap_layer(a_locations, weights=weights, max_intensity = 80, point_radius = 10, dissipating = True))\n",
    "marker_layer = gmaps.marker_layer(superfund_locations)\n",
    "fig.add_layer(marker_layer)\n",
    "fig.add_layer(geojson_layer)\n",
    "fig"
   ]
  },
  {
   "cell_type": "code",
   "execution_count": null,
   "metadata": {},
   "outputs": [],
   "source": []
  }
 ],
 "metadata": {
  "kernelspec": {
   "display_name": "Python 3",
   "language": "python",
   "name": "python3"
  },
  "language_info": {
   "codemirror_mode": {
    "name": "ipython",
    "version": 3
   },
   "file_extension": ".py",
   "mimetype": "text/x-python",
   "name": "python",
   "nbconvert_exporter": "python",
   "pygments_lexer": "ipython3",
   "version": "3.7.0"
  }
 },
 "nbformat": 4,
 "nbformat_minor": 2
}
